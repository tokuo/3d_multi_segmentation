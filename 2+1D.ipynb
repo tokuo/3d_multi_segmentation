{
 "cells": [
  {
   "cell_type": "code",
   "execution_count": 1,
   "metadata": {
    "collapsed": true
   },
   "outputs": [],
   "source": [
    "import glob\n",
    "import numpy as np\n",
    "from PIL import Image\n",
    "from numba import jit\n",
    "import cv2\n",
    "import time\n",
    "train_path = glob.glob(\"/Users/shgtkmt/workspace/3d_multi_segmentation/data/slice/*.tif\")\n",
    "ans_path = glob.glob(\"/Users/shgtkmt/workspace/3d_multi_segmentation/data/slice_segmentation/*.tif\")"
   ]
  },
  {
   "cell_type": "code",
   "execution_count": 27,
   "metadata": {},
   "outputs": [
    {
     "name": "stdout",
     "output_type": "stream",
     "text": [
      "256\n",
      "(500, 600)\n"
     ]
    },
    {
     "data": {
      "text/plain": [
       "[0, 1, 3, 2]"
      ]
     },
     "execution_count": 27,
     "metadata": {},
     "output_type": "execute_result"
    }
   ],
   "source": [
    "#色の確認\n",
    "\n",
    "print(len(train_path))\n",
    "print(Image.open(train_path[0]).size)\n",
    "demo = Image.open(ans_path[5])\n",
    "check = [0]\n",
    "flag = 0\n",
    "for y in range(600):\n",
    "    for x in range(500):\n",
    "        for c in range(len(check)):\n",
    "            if(demo.getpixel((x,y)) != check[c]):\n",
    "                flag += 1\n",
    "        if(flag == len(check)):\n",
    "            check.append(demo.getpixel((x,y)))\n",
    "        flag = 0\n",
    "check"
   ]
  },
  {
   "cell_type": "code",
   "execution_count": 14,
   "metadata": {
    "collapsed": true
   },
   "outputs": [],
   "source": [
    "# canny法でのエッジ抽出\n",
    "\n",
    "class operationThresholdCanny:\n",
    "    #minThreshold = 100\n",
    "    #maxThreshold = 500\n",
    "    #class variable shared by all instances\n",
    "    def __init__(self, imgPath):\n",
    "        self.imgPath = imgPath\n",
    "        self.minThreshold = 100\n",
    "        self.maxThreshold = 500\n",
    "        \n",
    "    def onTrackMin(self, position):\n",
    "        self.minThreshold = position\n",
    "\n",
    "    def onTrackMax(self, position):\n",
    "        self.maxThreshold = position\n",
    "        \n",
    "    def start(self):\n",
    "        img = cv2.imread(self.imgPath)\n",
    "        cv2.namedWindow('img')\n",
    "        cv2.createTrackbar('min','img', self.minThreshold, 200, self.onTrackMin)\n",
    "        cv2.createTrackbar('max','img', self.maxThreshold, 1000, self.onTrackMax)\n",
    "        while True:\n",
    "            img2 = cv2.Canny(img, self.minThreshold, self.maxThreshold)\n",
    "            cv2.imshow('img',img2)\n",
    "            if cv2.waitKey(10) == 27:\n",
    "                # escキーが押されたら終了\n",
    "                break\n",
    "        cv2.destroyAllWindows()\n",
    "        \n",
    "demo = operationThresholdCanny(train_path[0])\n",
    "demo.start()"
   ]
  },
  {
   "cell_type": "code",
   "execution_count": 7,
   "metadata": {
    "collapsed": true
   },
   "outputs": [],
   "source": [
    "# 画像強度において閾値を利用して黄色領域の判断できるのでは？\n",
    "\n",
    "class mythreshold:\n",
    "    def __init__(self, imgPath):\n",
    "        self.imgPath = imgPath\n",
    "        self.myThreshold = 126\n",
    "        \n",
    "    def onTrack(self, position):\n",
    "        self.myThreshold = position\n",
    "\n",
    "    def start(self):\n",
    "        img = cv2.imread(self.imgPath)\n",
    "        cv2.namedWindow('img')\n",
    "        cv2.createTrackbar('thresholf','img', self.myThreshold, 255, self.onTrack)\n",
    "        while True:\n",
    "            ret, img2 = cv2.threshold(img,self.myThreshold,255,cv2.THRESH_BINARY)\n",
    "            cv2.imshow('img',img2)\n",
    "            if cv2.waitKey(10) == 27:\n",
    "                # escキーが押されたら終了\n",
    "                break\n",
    "        cv2.destroyAllWindows()\n",
    "        \n",
    "demo = mythreshold(train_path[0])\n",
    "demo.start()"
   ]
  },
  {
   "cell_type": "code",
   "execution_count": 2,
   "metadata": {},
   "outputs": [
    {
     "name": "stdout",
     "output_type": "stream",
     "text": [
      "time:(0.46598047415415444)/min\n"
     ]
    },
    {
     "data": {
      "text/plain": [
       "(256, 600, 500, 1)"
      ]
     },
     "execution_count": 2,
     "metadata": {},
     "output_type": "execute_result"
    }
   ],
   "source": [
    "@jit\n",
    "def noFourier(tif_glob):\n",
    "    start = time.time()\n",
    "    pre_img = Image.open(tif_glob[0])\n",
    "    pre_img = pre_img.convert('L')\n",
    "    img = np.array(pre_img, dtype='float32').reshape([1,600,500,1])\n",
    "    for i in range(len(tif_glob)-1):\n",
    "        pre_img = Image.open(tif_glob[i+1])\n",
    "        pre_img = pre_img.convert('L')\n",
    "        img = np.append(img, np.array(pre_img, dtype='float32').reshape([1,600,500,1]), axis=0)\n",
    "    caltime = time.time() - start\n",
    "    print('time:({})/min'.format(caltime/60))\n",
    "    return img\n",
    "\n",
    "noX = noFourier(train_path)\n",
    "noX.shape"
   ]
  },
  {
   "cell_type": "code",
   "execution_count": 4,
   "metadata": {},
   "outputs": [
    {
     "data": {
      "image/png": "[encoded data removed]",
      "text/plain": [
       "<matplotlib.figure.Figure at 0x2731dddb278>"
      ]
     },
     "metadata": {},
     "output_type": "display_data"
    },
    {
     "name": "stdout",
     "output_type": "stream",
     "text": [
      "[[ 118.  118.  113. ...,  112.  112.  114.]\n",
      " [ 118.  117.  113. ...,  114.  110.  114.]\n",
      " [ 119.  112.  108. ...,  115.  108.  111.]\n",
      " ..., \n",
      " [ 112.  108.  106. ...,  128.  124.  111.]\n",
      " [ 103.  104.  107. ...,  129.  120.  104.]\n",
      " [  99.  111.  122. ...,  125.  116.  106.]]\n"
     ]
    }
   ],
   "source": [
    "from matplotlib import pyplot as plt\n",
    "plt.imshow(noX[-5,:,:,0], cmap='gray')\n",
    "plt.show()\n",
    "print(noX[-5,:,:,0])"
   ]
  },
  {
   "cell_type": "code",
   "execution_count": 6,
   "metadata": {},
   "outputs": [
    {
     "name": "stderr",
     "output_type": "stream",
     "text": [
      "C:\\Users\\shgtkmt\\Anaconda3\\envs\\deep-learning\\lib\\site-packages\\ipykernel_launcher.py:69: ComplexWarning: Casting complex values to real discards the imaginary part\n",
      "C:\\Users\\shgtkmt\\Anaconda3\\envs\\deep-learning\\lib\\site-packages\\ipykernel_launcher.py:69: ComplexWarning: Casting complex values to real discards the imaginary part\n"
     ]
    },
    {
     "name": "stdout",
     "output_type": "stream",
     "text": [
      "time:(58.660602096716566)/min\n"
     ]
    },
    {
     "data": {
      "text/plain": [
       "(256, 600, 500, 4)"
      ]
     },
     "execution_count": 6,
     "metadata": {},
     "output_type": "execute_result"
    }
   ],
   "source": [
    "@jit\n",
    "def myFourier2_1d(tif_glob, num):\n",
    "    if(num%2 == 0):\n",
    "        print('第二引数は奇数にしてください')\n",
    "        return 0\n",
    "    start = time.time()\n",
    "    #img = np.zeros([256,600,500,num]) 現状メモリが足りない\n",
    "    img = np.zeros([256,600,500,4],'float32')\n",
    "    pre_img = np.zeros([int((num-1)/2),600,500],'float32')\n",
    "    #[枚数, y, x, channel] [枚数,y, x]\n",
    "    #一枚目\n",
    "    for i in range(int((num-1)/2)+1):\n",
    "        sngl_img = Image.open(tif_glob[i])\n",
    "        sngl_img = sngl_img.convert('L')\n",
    "        sngl_img = np.array(sngl_img, dtype='float32').reshape([1,600,500])\n",
    "        pre_img = np.append(pre_img, sngl_img, axis=0)\n",
    "    first_img = Image.open(tif_glob[0])\n",
    "    first_img = first_img.convert('L')\n",
    "    first_img = np.array(first_img)\n",
    "    img[0,:,:,0] = first_img\n",
    "    for y in range(600):\n",
    "        for x in range(500):\n",
    "            local_f = pre_img[:,y,x]\n",
    "            local_f = np.fft.fft(local_f)\n",
    "            for i in range(len(local_f)):\n",
    "                local_f[i] = np.absolute(local_f[i])\n",
    "            #img[0,y,x,1:] = local_f\n",
    "            img[0,y,x,1] = local_f[:int(num/3)].sum()\n",
    "            img[0,y,x,2] = local_f[int(num/3):int((num/3)*2)].sum()\n",
    "            img[0,y,x,3] = local_f[int((num/3)*2):].sum()\n",
    "    #以下2枚目以降\n",
    "    for n in range(255):\n",
    "        if(n < (255-(num-1)/2)):\n",
    "            pre_img = np.delete(pre_img, 0, axis=0)\n",
    "            sngl_img = Image.open(tif_glob[n + int((num-1)/2)+1])\n",
    "            sngl_img = sngl_img.convert('L')\n",
    "            sngl_img = np.array(sngl_img, dtype='float32').reshape([1,600,500])\n",
    "            pre_img = np.append(pre_img, sngl_img, 0)\n",
    "            img[n+1,:,:,0] = pre_img[int((num-1)/2),:,:]\n",
    "            for y in range(600):\n",
    "                for x in range(500):\n",
    "                    local_f = pre_img[:,y,x]\n",
    "                    local_f = np.fft.fft(local_f)\n",
    "                    for i in range(len(local_f)):\n",
    "                        local_f[i] = np.absolute(local_f[i])\n",
    "                    #img[n+1,y,x,1:] = local_f\n",
    "                    img[n+1,y,x,1] = local_f[:int(num/3)].sum()\n",
    "                    img[n+1,y,x,2] = local_f[int(num/3):int((num/3)*2)].sum()\n",
    "                    img[n+1,y,x,3] = local_f[int((num/3)*2):].sum()\n",
    "        else:\n",
    "            pre_img = np.delete(pre_img, 0, axis=0)\n",
    "            sngl_img = np.zeros([1,600,500],'float32')\n",
    "            pre_img = np.append(pre_img, sngl_img, 0)\n",
    "            img[n+1,:,:,0] = pre_img[int((num-1)/2),:,:]\n",
    "            for y in range(600):\n",
    "                for x in range(500):\n",
    "                    local_f = pre_img[:,y,x]\n",
    "                    local_f = np.fft.fft(local_f)\n",
    "                    for i in range(len(local_f)):\n",
    "                        local_f[i] = np.absolute(local_f[i])\n",
    "                    #img[n+1,y,x,1:] = local_f\n",
    "                    img[n+1,y,x,1] = local_f[:int(num/3)].sum()\n",
    "                    img[n+1,y,x,2] = local_f[int(num/3):int((num/3)*2)].sum()\n",
    "                    img[n+1,y,x,3] = local_f[int((num/3)*2):].sum()\n",
    "    caltime = time.time() - start\n",
    "    print('time:({})/min'.format(caltime/60))\n",
    "    return img\n",
    "        \n",
    "X = myFourier2_1d(train_path,9)\n",
    "X.shape"
   ]
  },
  {
   "cell_type": "code",
   "execution_count": 3,
   "metadata": {},
   "outputs": [
    {
     "name": "stdout",
     "output_type": "stream",
     "text": [
      "time:(7.501474908987681)/min\n"
     ]
    },
    {
     "data": {
      "text/plain": [
       "(256, 600, 500, 4)"
      ]
     },
     "execution_count": 3,
     "metadata": {},
     "output_type": "execute_result"
    }
   ],
   "source": [
    "start = time.time()\n",
    "'''\n",
    "with open(\"./../data/2+1D/X.txt\", \"w\") as f:\n",
    "    for num in range(X.shape[0]):\n",
    "        f.write('flag0\\n')\n",
    "        for row in range(X.shape[1]):\n",
    "            f.write('flag1\\n')\n",
    "            for column in range(X.shape[2]):\n",
    "                f.write('flag2\\n')\n",
    "                for ch in range(X.shape[3]):\n",
    "                    f.write(str(X[num,row,column,ch]))\n",
    "                    f.write('\\n')\n",
    "\n",
    "#'''\n",
    "#'''\n",
    "X = np.zeros([256,600,500,4],'float32')\n",
    "with open(\"./../data/2+1D/X.txt\", \"r\") as f:\n",
    "    num=-1\n",
    "    row=-1\n",
    "    column=-1\n",
    "    ch=0\n",
    "    for line in f:\n",
    "        if (line.find('flag0') == 0):\n",
    "            num += 1\n",
    "            row = -1\n",
    "        elif (line.find('flag1') == 0):\n",
    "            row += 1\n",
    "            column = -1\n",
    "        elif (line.find('flag2') == 0):\n",
    "            column += 1\n",
    "            ch = 0\n",
    "        else:\n",
    "            X[num,row,column,ch] = float(line)\n",
    "            ch += 1\n",
    "#'''\n",
    "caltime = time.time() - start\n",
    "print('time:({})/min'.format(caltime/60))\n",
    "X.shape"
   ]
  },
  {
   "cell_type": "code",
   "execution_count": 10,
   "metadata": {},
   "outputs": [
    {
     "name": "stdout",
     "output_type": "stream",
     "text": [
      "time:(2.110440695285797)/min\n"
     ]
    },
    {
     "data": {
      "text/plain": [
       "(256, 600, 500, 3)"
      ]
     },
     "execution_count": 10,
     "metadata": {},
     "output_type": "execute_result"
    }
   ],
   "source": [
    "start = time.time()\n",
    "@jit\n",
    "def ans_check(ans_path):\n",
    "    ans = Image.open(ans_path)\n",
    "    _x = int(ans.size[0])\n",
    "    _y = int(ans.size[1])\n",
    "    Y = np.zeros([1, _y, _x, 3])\n",
    "    ans = np.array(ans)\n",
    "    for y in range(_y):\n",
    "        for x in range(_x):\n",
    "            if(ans[y,x] == 1):\n",
    "                Y[0,y,x,0] = 1\n",
    "            elif(ans[y,x] == 2):\n",
    "                Y[0,y,x,1] = 1\n",
    "            elif(ans[y,x] == 3):\n",
    "                Y[0,y,x,2] = 1\n",
    "    return Y\n",
    "\n",
    "Y = ans_check(ans_path[0])\n",
    "for i in range(len(ans_path) - 1):\n",
    "    Y = np.append(Y, ans_check(ans_path[i+1]), axis=0)\n",
    "caltime = time.time() - start\n",
    "print('time:({})/min'.format(caltime/60))\n",
    "Y.shape"
   ]
  },
  {
   "cell_type": "code",
   "execution_count": 92,
   "metadata": {},
   "outputs": [
    {
     "data": {
      "image/png": "[encoded data removed]",
      "text/plain": [
       "<matplotlib.figure.Figure at 0x2429df3c7f0>"
      ]
     },
     "metadata": {},
     "output_type": "display_data"
    },
    {
     "data": {
      "image/png": "[encoded data removed]",
      "text/plain": [
       "<matplotlib.figure.Figure at 0x2429a7f4ba8>"
      ]
     },
     "metadata": {},
     "output_type": "display_data"
    },
    {
     "data": {
      "image/png": "[encoded data removed]",
      "text/plain": [
       "<matplotlib.figure.Figure at 0x2429a880978>"
      ]
     },
     "metadata": {},
     "output_type": "display_data"
    }
   ],
   "source": [
    "from matplotlib import pyplot as plt\n",
    "plt.imshow(Y[-5,:,:,0], cmap='gray')\n",
    "plt.show()\n",
    "plt.imshow(Y[-5,:,:,1], cmap='gray')\n",
    "plt.show()\n",
    "plt.imshow(Y[-5,:,:,2], cmap='gray')\n",
    "plt.show()"
   ]
  },
  {
   "cell_type": "code",
   "execution_count": 3,
   "metadata": {},
   "outputs": [
    {
     "name": "stdout",
     "output_type": "stream",
     "text": [
      "time:(0.7401598453521728)/min\n"
     ]
    },
    {
     "data": {
      "text/plain": [
       "(256, 600, 500)"
      ]
     },
     "execution_count": 3,
     "metadata": {},
     "output_type": "execute_result"
    }
   ],
   "source": [
    "start = time.time()\n",
    "@jit\n",
    "def ans_bin(ans_path):\n",
    "    ans = Image.open(ans_path)\n",
    "    _x = int(ans.size[0])\n",
    "    _y = int(ans.size[1])\n",
    "    Y = np.zeros([1, _y, _x])\n",
    "    ans = np.array(ans)\n",
    "    for y in range(_y):\n",
    "        for x in range(_x):\n",
    "            if(ans[y,x] != 0):\n",
    "                Y[0,y,x] = 1\n",
    "    return Y\n",
    "\n",
    "preY = ans_bin(ans_path[0])\n",
    "for i in range(len(ans_path) - 1):\n",
    "    preY = np.append(preY, ans_bin(ans_path[i+1]), axis=0)\n",
    "caltime = time.time() - start\n",
    "print('time:({})/min'.format(caltime/60))\n",
    "preY.shape"
   ]
  },
  {
   "cell_type": "code",
   "execution_count": 18,
   "metadata": {},
   "outputs": [
    {
     "data": {
      "image/png": "[encoded data removed]",
      "text/plain": [
       "<matplotlib.figure.Figure at 0x1bb897d9048>"
      ]
     },
     "metadata": {},
     "output_type": "display_data"
    },
    {
     "name": "stdout",
     "output_type": "stream",
     "text": [
      "[[ 0.  0.  0. ...,  0.  0.  0.]\n",
      " [ 0.  0.  0. ...,  0.  0.  0.]\n",
      " [ 0.  0.  0. ...,  0.  0.  0.]\n",
      " ..., \n",
      " [ 1.  1.  1. ...,  0.  0.  0.]\n",
      " [ 0.  1.  1. ...,  0.  0.  0.]\n",
      " [ 0.  1.  1. ...,  0.  0.  0.]]\n"
     ]
    }
   ],
   "source": [
    "from matplotlib import pyplot as plt\n",
    "plt.imshow(preY[-5,:,:], cmap='gray')\n",
    "plt.show()\n",
    "print(preY[-5,:,:])"
   ]
  },
  {
   "cell_type": "code",
   "execution_count": 4,
   "metadata": {},
   "outputs": [
    {
     "name": "stdout",
     "output_type": "stream",
     "text": [
      "(230, 600, 500, 1) (230, 600, 500) (26, 600, 500, 1) (26, 600, 500)\n"
     ]
    }
   ],
   "source": [
    "#検証用データ\n",
    "\n",
    "noXval = noX[4,:,:,:].reshape([1,600,500,1])\n",
    "preYval = preY[4,:,:].reshape([1,600,500])\n",
    "for i in range(26):\n",
    "    noXval = np.append(noXval, noX[i*10+4-i,:,:,:].reshape([1,600,500,1]), axis=0)\n",
    "    noX = np.delete(noX, i*10+4-i, axis=0)\n",
    "    preYval = np.append(preYval, preY[i*10+4-i,:,:].reshape([1,600,500]), axis=0)\n",
    "    preY = np.delete(preY, i*10+4-i, axis=0)\n",
    "noXval = np.delete(noXval, 0, axis=0)\n",
    "preYval = np.delete(preYval, 0, axis=0)\n",
    "print(noX.shape, preY.shape, noXval.shape, preYval.shape)"
   ]
  },
  {
   "cell_type": "code",
   "execution_count": 5,
   "metadata": {},
   "outputs": [
    {
     "name": "stderr",
     "output_type": "stream",
     "text": [
      "Using TensorFlow backend.\n"
     ]
    }
   ],
   "source": [
    "# ２値化\n",
    "\n",
    "from keras.layers import Input, Activation\n",
    "from keras.layers.core import Reshape\n",
    "from keras.layers.convolutional import Conv2D, UpSampling2D\n",
    "from keras.layers.pooling import MaxPooling2D\n",
    "from keras.layers.normalization import BatchNormalization\n",
    "from keras.layers.advanced_activations import ThresholdedReLU, LeakyReLU\n",
    "from keras.layers.merge import Concatenate\n",
    "\n",
    "input_img = Input(shape=(600,500,1))\n",
    "# 目的：ノイズのような黒点を特徴として取り込む\n",
    "x = Conv2D(1, (11, 11), padding='same')(input_img)\n",
    "# 目的：黄色領域を取り込む\n",
    "x = Conv2D(5, (25, 25), padding='same')(x)\n",
    "x = BatchNormalization()(x)\n",
    "x = LeakyReLU(alpha=0.1)(x)\n",
    "x1 = MaxPooling2D(pool_size=(2, 2))(x) #shape=(300,250,5)\n",
    "# 目的：エッジの判断\n",
    "x = Conv2D(10, (21, 21), padding='same')(x1)\n",
    "x = BatchNormalization()(x)\n",
    "x = LeakyReLU(alpha=0.1)(x)\n",
    "x2 = MaxPooling2D(pool_size=(5, 5))(x) #shape=(60,50,10)\n",
    "# 目的：上記までを利用してよりグローバル情報な青赤領域を取り込む\n",
    "x = Conv2D(20, (13, 13), padding='same')(x2)\n",
    "x = BatchNormalization()(x)\n",
    "x = LeakyReLU(alpha=0.1)(x)\n",
    "x = MaxPooling2D(pool_size=(2, 2))(x) #shale=(30,25,20)\n",
    "# 目的：完全なグローバル情報 + 次元合わせ\n",
    "x = Conv2D(10, (7, 7), padding='same')(x)\n",
    "x = BatchNormalization()(x)\n",
    "x = LeakyReLU(alpha=0.1)(x)\n",
    "#upsampling\n",
    "x = UpSampling2D((2, 2))(x) #shape=(60,50,10)\n",
    "x = Concatenate()([x2, x])\n",
    "x = Conv2D(5, (13, 13), padding='same')(x)\n",
    "x = BatchNormalization()(x)\n",
    "x = LeakyReLU(alpha=0.1)(x)\n",
    "x = UpSampling2D((5, 5))(x) #shape=(300,250,5)\n",
    "x = Concatenate()([x1, x])\n",
    "x = Conv2D(3, (21, 21), padding='same')(x)\n",
    "x = BatchNormalization()(x)\n",
    "x = LeakyReLU(alpha=0.1)(x)\n",
    "x = UpSampling2D((2, 2))(x) #shape=(600,500,3)\n",
    "#fin\n",
    "x = Conv2D(1, (15, 15), padding='same')(x)\n",
    "x = Reshape((600,500))(x)\n",
    "x = Activation('sigmoid')(x)\n",
    "out = ThresholdedReLU(theta=0.5)(x)\n",
    "\n",
    "from keras.models import Model\n",
    "model = Model(input_img, out)\n",
    "model.compile(loss=\"binary_crossentropy\", \n",
    "              optimizer='adam',\n",
    "             metrics=['accuracy'])"
   ]
  },
  {
   "cell_type": "code",
   "execution_count": 6,
   "metadata": {
    "collapsed": true
   },
   "outputs": [],
   "source": [
    "#model.fit(noX, preY, epochs=10, batch_size=10, validation_split=0)\n",
    "model.load_weights('./img/pre_noF_weights.h5', by_name=False)"
   ]
  },
  {
   "cell_type": "code",
   "execution_count": 9,
   "metadata": {
    "collapsed": true
   },
   "outputs": [],
   "source": [
    "#検証用データのみ出力\n",
    "for i in range(13):\n",
    "    ans = model.predict_on_batch(noXval[i*2:i*2+2,:,:,:])\n",
    "    img = Image.fromarray(ans[0,:,:])\n",
    "    img.save('./../results/val_' + train_path[i*2].split('/')[-1].split('\\\\')[-1])\n",
    "    img = Image.fromarray(ans[1,:,:])\n",
    "    img.save('./../results/val_' + train_path[i*2+1].split('/')[-1].split('\\\\')[-1])"
   ]
  },
  {
   "cell_type": "code",
   "execution_count": 10,
   "metadata": {
    "collapsed": true
   },
   "outputs": [],
   "source": [
    "#全部出力\n",
    "for i in range(115):\n",
    "    ans = model.predict_on_batch(noX[i*2:i*2+2,:,:,:])\n",
    "    img = Image.fromarray(ans[0,:,:])\n",
    "    img.save('./../results/' + train_path[i*2].split('/')[-1].split('\\\\')[-1])\n",
    "    img = Image.fromarray(ans[1,:,:])\n",
    "    img.save('./../results/' + train_path[i*2+1].split('/')[-1].split('\\\\')[-1])"
   ]
  },
  {
   "cell_type": "code",
   "execution_count": 104,
   "metadata": {},
   "outputs": [
    {
     "name": "stdout",
     "output_type": "stream",
     "text": [
      "____________________________________________________________________________________________________\n",
      "Layer (type)                     Output Shape          Param #     Connected to                     \n",
      "====================================================================================================\n",
      "input_19 (InputLayer)            (None, 600, 500, 1)   0                                            \n",
      "____________________________________________________________________________________________________\n",
      "conv2d_145 (Conv2D)              (None, 600, 500, 1)   122         input_19[0][0]                   \n",
      "____________________________________________________________________________________________________\n",
      "conv2d_146 (Conv2D)              (None, 600, 500, 5)   3130        conv2d_145[0][0]                 \n",
      "____________________________________________________________________________________________________\n",
      "batch_normalization_109 (BatchNo (None, 600, 500, 5)   20          conv2d_146[0][0]                 \n",
      "____________________________________________________________________________________________________\n",
      "leaky_re_lu_109 (LeakyReLU)      (None, 600, 500, 5)   0           batch_normalization_109[0][0]    \n",
      "____________________________________________________________________________________________________\n",
      "max_pooling2d_55 (MaxPooling2D)  (None, 300, 250, 5)   0           leaky_re_lu_109[0][0]            \n",
      "____________________________________________________________________________________________________\n",
      "conv2d_147 (Conv2D)              (None, 300, 250, 10)  22060       max_pooling2d_55[0][0]           \n",
      "____________________________________________________________________________________________________\n",
      "batch_normalization_110 (BatchNo (None, 300, 250, 10)  40          conv2d_147[0][0]                 \n",
      "____________________________________________________________________________________________________\n",
      "leaky_re_lu_110 (LeakyReLU)      (None, 300, 250, 10)  0           batch_normalization_110[0][0]    \n",
      "____________________________________________________________________________________________________\n",
      "max_pooling2d_56 (MaxPooling2D)  (None, 60, 50, 10)    0           leaky_re_lu_110[0][0]            \n",
      "____________________________________________________________________________________________________\n",
      "conv2d_148 (Conv2D)              (None, 60, 50, 20)    33820       max_pooling2d_56[0][0]           \n",
      "____________________________________________________________________________________________________\n",
      "batch_normalization_111 (BatchNo (None, 60, 50, 20)    80          conv2d_148[0][0]                 \n",
      "____________________________________________________________________________________________________\n",
      "leaky_re_lu_111 (LeakyReLU)      (None, 60, 50, 20)    0           batch_normalization_111[0][0]    \n",
      "____________________________________________________________________________________________________\n",
      "max_pooling2d_57 (MaxPooling2D)  (None, 30, 25, 20)    0           leaky_re_lu_111[0][0]            \n",
      "____________________________________________________________________________________________________\n",
      "conv2d_149 (Conv2D)              (None, 30, 25, 10)    9810        max_pooling2d_57[0][0]           \n",
      "____________________________________________________________________________________________________\n",
      "batch_normalization_112 (BatchNo (None, 30, 25, 10)    40          conv2d_149[0][0]                 \n",
      "____________________________________________________________________________________________________\n",
      "leaky_re_lu_112 (LeakyReLU)      (None, 30, 25, 10)    0           batch_normalization_112[0][0]    \n",
      "____________________________________________________________________________________________________\n",
      "up_sampling2d_55 (UpSampling2D)  (None, 60, 50, 10)    0           leaky_re_lu_112[0][0]            \n",
      "____________________________________________________________________________________________________\n",
      "concatenate_15 (Concatenate)     (None, 60, 50, 20)    0           max_pooling2d_56[0][0]           \n",
      "                                                                   up_sampling2d_55[0][0]           \n",
      "____________________________________________________________________________________________________\n",
      "conv2d_150 (Conv2D)              (None, 60, 50, 5)     16905       concatenate_15[0][0]             \n",
      "____________________________________________________________________________________________________\n",
      "batch_normalization_113 (BatchNo (None, 60, 50, 5)     20          conv2d_150[0][0]                 \n",
      "____________________________________________________________________________________________________\n",
      "leaky_re_lu_113 (LeakyReLU)      (None, 60, 50, 5)     0           batch_normalization_113[0][0]    \n",
      "____________________________________________________________________________________________________\n",
      "up_sampling2d_56 (UpSampling2D)  (None, 300, 250, 5)   0           leaky_re_lu_113[0][0]            \n",
      "____________________________________________________________________________________________________\n",
      "concatenate_16 (Concatenate)     (None, 300, 250, 10)  0           max_pooling2d_55[0][0]           \n",
      "                                                                   up_sampling2d_56[0][0]           \n",
      "____________________________________________________________________________________________________\n",
      "conv2d_151 (Conv2D)              (None, 300, 250, 3)   13233       concatenate_16[0][0]             \n",
      "____________________________________________________________________________________________________\n",
      "batch_normalization_114 (BatchNo (None, 300, 250, 3)   12          conv2d_151[0][0]                 \n",
      "____________________________________________________________________________________________________\n",
      "leaky_re_lu_114 (LeakyReLU)      (None, 300, 250, 3)   0           batch_normalization_114[0][0]    \n",
      "____________________________________________________________________________________________________\n",
      "up_sampling2d_57 (UpSampling2D)  (None, 600, 500, 3)   0           leaky_re_lu_114[0][0]            \n",
      "____________________________________________________________________________________________________\n",
      "conv2d_152 (Conv2D)              (None, 600, 500, 1)   676         up_sampling2d_57[0][0]           \n",
      "____________________________________________________________________________________________________\n",
      "reshape_19 (Reshape)             (None, 600, 500)      0           conv2d_152[0][0]                 \n",
      "____________________________________________________________________________________________________\n",
      "activation_19 (Activation)       (None, 600, 500)      0           reshape_19[0][0]                 \n",
      "____________________________________________________________________________________________________\n",
      "thresholded_re_lu_19 (Thresholde (None, 600, 500)      0           activation_19[0][0]              \n",
      "====================================================================================================\n",
      "Total params: 99,968\n",
      "Trainable params: 99,862\n",
      "Non-trainable params: 106\n",
      "____________________________________________________________________________________________________\n",
      "None\n"
     ]
    }
   ],
   "source": [
    "print(model.summary())\n",
    "#model.save_weights('./img/pre_noF_weights.h5')\n",
    "\n",
    "# model_plot\n",
    "#from keras.utils import plot_model\n",
    "#plot_model(model, to_file='./img/premodel.png', show_shapes=True)"
   ]
  },
  {
   "cell_type": "code",
   "execution_count": 7,
   "metadata": {},
   "outputs": [
    {
     "name": "stdout",
     "output_type": "stream",
     "text": [
      "time:(0.3654314517974854)/min\n"
     ]
    }
   ],
   "source": [
    "noX = noFourier(train_path)\n",
    "for i in range(128):\n",
    "    ans = model.predict_on_batch(noX[i*2:i*2+2,:,:,:])\n",
    "    for n in range(2):\n",
    "        for y in range(600):\n",
    "            for x in range(500):\n",
    "                if(ans[n,y,x] == 0):\n",
    "                    noX[i*2+n,y,x,0] = 0"
   ]
  },
  {
   "cell_type": "code",
   "execution_count": 8,
   "metadata": {
    "collapsed": true
   },
   "outputs": [],
   "source": [
    "for i in range(256):\n",
    "    img = np.reshape(noX[i,:,:,0],(600,500))\n",
    "    img = Image.fromarray(img)\n",
    "    img.convert('L')\n",
    "    img.save('./img/' + str(i) + '.tif')"
   ]
  },
  {
   "cell_type": "code",
   "execution_count": null,
   "metadata": {
    "collapsed": true
   },
   "outputs": [],
   "source": [
    "# 第二段階"
   ]
  },
  {
   "cell_type": "code",
   "execution_count": 11,
   "metadata": {},
   "outputs": [],
   "source": [
    "nextX = np.zeros((256,600,500,1))\n",
    "for i in range(256):\n",
    "    img = np.array(Image.open('./img/' + str(i) + '.tif'))\n",
    "    nextX[i,:,:,0] = img\n",
    "    for y in range(600):\n",
    "        for x in range(500):\n",
    "            if(nextX[i,y,x,0] == 0):\n",
    "                Y[i,y,x,1] = 0"
   ]
  },
  {
   "cell_type": "code",
   "execution_count": 13,
   "metadata": {},
   "outputs": [],
   "source": [
    "# 赤、青の判断\n",
    "\n",
    "from keras.layers import Input, Activation\n",
    "from keras.layers.core import Reshape\n",
    "from keras.layers.convolutional import Conv2D, UpSampling2D\n",
    "from keras.layers.pooling import MaxPooling2D\n",
    "from keras.layers.normalization import BatchNormalization\n",
    "from keras.layers.advanced_activations import ThresholdedReLU, LeakyReLU\n",
    "from keras.layers.merge import Concatenate\n",
    "\n",
    "input_img = Input(shape=(600,500,1))\n",
    "# 目的：ノイズのような黒点を特徴として取り込む\n",
    "x = Conv2D(1, (11, 11), padding='same')(input_img)\n",
    "# 目的：黄色領域を取り込む\n",
    "x = Conv2D(5, (25, 25), padding='same')(x)\n",
    "x = BatchNormalization()(x)\n",
    "x = LeakyReLU(alpha=0.1)(x)\n",
    "x1 = MaxPooling2D(pool_size=(2, 2))(x) #shape=(300,250,5)\n",
    "# 目的：エッジの判断\n",
    "x = Conv2D(10, (21, 21), padding='same')(x1)\n",
    "x = BatchNormalization()(x)\n",
    "x = LeakyReLU(alpha=0.1)(x)\n",
    "x2 = MaxPooling2D(pool_size=(5, 5))(x) #shape=(60,50,10)\n",
    "# 目的：上記までを利用してよりグローバル情報な青赤領域を取り込む\n",
    "x = Conv2D(20, (13, 13), padding='same')(x2)\n",
    "x = BatchNormalization()(x)\n",
    "x = LeakyReLU(alpha=0.1)(x)\n",
    "x = MaxPooling2D(pool_size=(2, 2))(x) #shale=(30,25,20)\n",
    "# 目的：完全なグローバル情報 + 次元合わせ\n",
    "x = Conv2D(10, (7, 7), padding='same')(x)\n",
    "x = BatchNormalization()(x)\n",
    "x = LeakyReLU(alpha=0.2)(x)\n",
    "#upsampling\n",
    "x = UpSampling2D((2, 2))(x) #shape=(60,50,10)\n",
    "x = Concatenate()([x2, x])\n",
    "x = Conv2D(5, (13, 13), padding='same')(x)\n",
    "x = BatchNormalization()(x)\n",
    "x = LeakyReLU(alpha=0.1)(x)\n",
    "x = UpSampling2D((5, 5))(x) #shape=(300,250,5)\n",
    "x = Concatenate()([x1, x])\n",
    "x = Conv2D(3, (21, 21), padding='same')(x)\n",
    "x = BatchNormalization()(x)\n",
    "x = LeakyReLU(alpha=0.1)(x)\n",
    "x = UpSampling2D((2, 2))(x) #shape=(600,500,3)\n",
    "#fin\n",
    "x = Conv2D(1, (15, 15), padding='same')(x)\n",
    "x = Reshape((600,500))(x)\n",
    "x = Activation('sigmoid')(x)\n",
    "out = ThresholdedReLU(theta=0.5)(x)\n",
    "\n",
    "from keras.models import Model\n",
    "model = Model(input_img, out)\n",
    "model.compile(loss=\"binary_crossentropy\", \n",
    "              optimizer='adam',\n",
    "             metrics=['accuracy'])"
   ]
  },
  {
   "cell_type": "code",
   "execution_count": 14,
   "metadata": {},
   "outputs": [],
   "source": [
    "#model.fit(nextX, Y[:,:,:,1], epochs=10, batch_size=10, validation_split=0)\n",
    "model.load_weights('./img/pre2_noF_weights.h5', by_name=False)"
   ]
  },
  {
   "cell_type": "code",
   "execution_count": 15,
   "metadata": {
    "collapsed": true
   },
   "outputs": [],
   "source": [
    "for i in range(128):\n",
    "    ans = model.predict_on_batch(nextX[i*2:i*2+2,:,:,:])\n",
    "    img = Image.fromarray(ans[0,:,:])\n",
    "    img.save('./../results/' + train_path[i*2].split('/')[-1].split('\\\\')[-1])\n",
    "    img = Image.fromarray(ans[1,:,:])\n",
    "    img.save('./../results/' + train_path[i*2+1].split('/')[-1].split('\\\\')[-1])\n",
    "#model.save_weights('./img/pre2_noF_weights.h5')"
   ]
  },
  {
   "cell_type": "code",
   "execution_count": null,
   "metadata": {
    "collapsed": true
   },
   "outputs": [],
   "source": []
  }
 ],
 "metadata": {
  "kernelspec": {
   "display_name": "Python 3",
   "language": "python",
   "name": "python3"
  },
  "language_info": {
   "codemirror_mode": {
    "name": "ipython",
    "version": 3
   },
   "file_extension": ".py",
   "mimetype": "text/x-python",
   "name": "python",
   "nbconvert_exporter": "python",
   "pygments_lexer": "ipython3",
   "version": "3.5.4"
  }
 },
 "nbformat": 4,
 "nbformat_minor": 2
}
